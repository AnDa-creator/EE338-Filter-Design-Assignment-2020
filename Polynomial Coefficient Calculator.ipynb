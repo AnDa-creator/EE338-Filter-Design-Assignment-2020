{
 "cells": [
  {
   "cell_type": "markdown",
   "metadata": {},
   "source": [
    "# Calculation For Bandstop Polynomials"
   ]
  },
  {
   "cell_type": "code",
   "execution_count": 87,
   "metadata": {},
   "outputs": [
    {
     "data": {
      "text/latex": [
       "$x \\mapsto \\text{1.6548497618849303} + \\text{7.964770601883289}\\,x + \\text{19.16709382370914}\\,x^{2} + \\text{29.928384488055833}\\,x^{3} + \\text{33.04441945744799}\\,x^{4} + \\text{26.387219615637306}\\,x^{5} + \\text{14.8996814294}\\,x^{6} + \\text{5.45889}\\,x^{7} + \\text{1.0}\\,x^{8}$"
      ],
      "text/plain": [
       "Polynomial([ 1.65484976,  7.9647706 , 19.16709382, 29.92838449, 33.04441946,\n",
       "       26.38721962, 14.89968143,  5.45889   ,  1.        ], domain=[-1.,  1.], window=[-1.,  1.])"
      ]
     },
     "execution_count": 87,
     "metadata": {},
     "output_type": "execute_result"
    }
   ],
   "source": [
    "from numpy.polynomial import Polynomial as P\n",
    "import numpy as np\n",
    "\n",
    "P1 = P([1.1342, 2.08908, 1])\n",
    "P2 = P([1.1342, 1.77103, 1])\n",
    "P3 = P([1.1342, 1.18336, 1])\n",
    "P4 = P([1.1342, 0.41542, 1])\n",
    "\n",
    "P_deno = P1 * P2 * P3 * P4\n",
    "# P_num = 1.655\n",
    "\n",
    "# total_P = P_num/ P_deno\n",
    "P_deno"
   ]
  },
  {
   "cell_type": "code",
   "execution_count": 31,
   "metadata": {},
   "outputs": [],
   "source": [
    "P_lin = P([0, 0.4842])\n",
    "P_square = P([0.3756, 0, 1])"
   ]
  },
  {
   "cell_type": "code",
   "execution_count": 42,
   "metadata": {},
   "outputs": [
    {
     "data": {
      "text/latex": [
       "$x \\mapsto \\color{LightGray}{\\text{0.0}}\\color{LightGray}{ + \\text{0.0}\\,x}\\color{LightGray}{ + \\text{0.0}\\,x^{2}}\\color{LightGray}{ + \\text{0.0}\\,x^{3}}\\color{LightGray}{ + \\text{0.0}\\,x^{4}}\\color{LightGray}{ + \\text{0.0}\\,x^{5}}\\color{LightGray}{ + \\text{0.0}\\,x^{6}}\\color{LightGray}{ + \\text{0.0}\\,x^{7}} + \\text{0.0030213308198844906}\\,x^{8}$"
      ],
      "text/plain": [
       "Polynomial([0.        , 0.        , 0.        , 0.        , 0.        ,\n",
       "       0.        , 0.        , 0.        , 0.00302133], domain=[-1.,  1.], window=[-1.,  1.])"
      ]
     },
     "execution_count": 42,
     "metadata": {},
     "output_type": "execute_result"
    }
   ],
   "source": [
    "P_lin**(8)"
   ]
  },
  {
   "cell_type": "code",
   "execution_count": 51,
   "metadata": {},
   "outputs": [
    {
     "data": {
      "text/latex": [
       "$x \\mapsto \\text{0.0010545789180519325}\\color{LightGray}{ + \\text{0.0}\\,x} + \\text{0.019654026694258593}\\,x^{2}\\color{LightGray}{ + \\text{0.0}\\,x^{3}} + \\text{0.1569810438838546}\\,x^{4}\\color{LightGray}{ + \\text{0.0}\\,x^{5}} + \\text{0.6965790019695358}\\,x^{6}\\color{LightGray}{ + \\text{0.0}\\,x^{7}} + \\text{1.8545766825599996}\\,x^{8}\\color{LightGray}{ + \\text{0.0}\\,x^{9}} + \\text{2.96258256}\\,x^{10}\\color{LightGray}{ + \\text{0.0}\\,x^{11}} + \\text{2.6292}\\,x^{12}\\color{LightGray}{ + \\text{0.0}\\,x^{13}} + \\text{1.0}\\,x^{14}$"
      ],
      "text/plain": [
       "Polynomial([1.05457892e-03, 0.00000000e+00, 1.96540267e-02, 0.00000000e+00,\n",
       "       1.56981044e-01, 0.00000000e+00, 6.96579002e-01, 0.00000000e+00,\n",
       "       1.85457668e+00, 0.00000000e+00, 2.96258256e+00, 0.00000000e+00,\n",
       "       2.62920000e+00, 0.00000000e+00, 1.00000000e+00], domain=[-1.,  1.], window=[-1.,  1.])"
      ]
     },
     "execution_count": 51,
     "metadata": {},
     "output_type": "execute_result"
    }
   ],
   "source": [
    "P_square**7"
   ]
  },
  {
   "cell_type": "code",
   "execution_count": 60,
   "metadata": {},
   "outputs": [
    {
     "name": "stdout",
     "output_type": "stream",
     "text": [
      "The polynomial:   poly([0.         0.         0.         0.         0.         0.\n",
      " 0.         0.         0.00302133])\n",
      "The polynomial:   poly([0.         0.         0.         0.         0.         0.\n",
      " 0.         0.01279391 0.         0.0340626 ])\n",
      "The polynomial:   poly([0.         0.         0.         0.         0.         0.\n",
      " 0.027088   0.         0.14423853 0.         0.19201082])\n",
      "The polynomial:   poly([0.         0.         0.         0.         0.         0.03721297\n",
      " 0.         0.29722818 0.         0.79134233 0.         0.70229173])\n",
      "The polynomial:   poly([0.         0.         0.         0.         0.03614928 0.\n",
      " 0.38497631 0.         1.53744534 0.         2.72886997 0.\n",
      " 1.8163405 ])\n",
      "The polynomial:   poly([0.         0.         0.         0.02539718 0.         0.33808817\n",
      " 0.         1.80025647 0.         4.7930151  0.         6.38047803\n",
      " 0.         3.39748564])\n",
      "The polynomial:   poly([ 0.          0.          0.01261709  0.          0.20155102  0.\n",
      "  1.34152704  0.          4.76225433  0.          9.50929379  0.\n",
      " 10.12704344  0.          4.49371825])\n",
      "The polynomial:   poly([0.00000000e+00 4.06702781e-03 0.00000000e+00 7.57965779e-02\n",
      " 0.00000000e+00 6.05403977e-01 0.00000000e+00 2.68638613e+00\n",
      " 0.00000000e+00 7.15225273e+00 0.00000000e+00 1.14253239e+01\n",
      " 0.00000000e+00 1.01396200e+01 0.00000000e+00 3.85654193e+00])\n",
      "The polynomial:   poly([6.55485729e-04 0.00000000e+00 1.39613574e-02 0.00000000e+00\n",
      " 1.30097846e-01 0.00000000e+00 6.92746782e-01 0.00000000e+00\n",
      " 2.30546719e+00 0.00000000e+00 4.91047325e+00 0.00000000e+00\n",
      " 6.53683873e+00 0.00000000e+00 4.97249256e+00 0.00000000e+00\n",
      " 1.65484976e+00])\n",
      "[ 1.65484976  7.9647706  19.16709382 29.92838449 33.04441946 26.38721962\n",
      " 14.89968143  5.45889     1.        ]\n"
     ]
    },
    {
     "data": {
      "text/latex": [
       "$x \\mapsto \\text{0.0003960998416203058} + \\text{0.002457641717584921}\\,x + \\text{0.016060945251815256}\\,x^{2} + \\text{0.061149817497367816}\\,x^{3} + \\text{0.2222547043689979}\\,x^{4} + \\text{0.592624861155594}\\,x^{5} + \\text{1.4782841263749158}\\,x^{6} + \\text{2.8985499461860322}\\,x^{7} + \\text{5.288955480233659}\\,x^{8} + \\text{7.717119132550671}\\,x^{9} + \\text{10.478684062014203}\\,x^{10} + \\text{11.184153416516788}\\,x^{11} + \\text{11.167311433334206}\\,x^{12} + \\text{8.180262633460535}\\,x^{13} + \\text{5.720284118447305}\\,x^{14} + \\text{2.330448367131017}\\,x^{15} + \\text{1.0}\\,x^{16}$"
      ],
      "text/plain": [
       "Polynomial([3.96099842e-04, 2.45764172e-03, 1.60609453e-02, 6.11498175e-02,\n",
       "       2.22254704e-01, 5.92624861e-01, 1.47828413e+00, 2.89854995e+00,\n",
       "       5.28895548e+00, 7.71711913e+00, 1.04786841e+01, 1.11841534e+01,\n",
       "       1.11673114e+01, 8.18026263e+00, 5.72028412e+00, 2.33044837e+00,\n",
       "       1.00000000e+00], domain=[-1.,  1.], window=[-1.,  1.])"
      ]
     },
     "execution_count": 60,
     "metadata": {},
     "output_type": "execute_result"
    }
   ],
   "source": [
    "\n",
    "Coefficeints = P_deno.coef\n",
    "P_final = P([0])\n",
    "for i in range(0, 9):\n",
    "#     print( \"linear\", P_lin**(8 - i))\n",
    "#     print(\"square\", P_square**(i))\n",
    "#     print(\"the coeff\", Coefficeints[8-i] )\n",
    "    P_now = Coefficeints[8-i] * (P_lin**(8 - i)) * (P_square**(i))\n",
    "#     print(\"The polynomial:  \",P_now )\n",
    "    P_final = P_final + P_now\n",
    "P_deno_final = P_final/P_final.coef[2*i]\n",
    "print(Coefficeints)\n",
    "P_deno_final"
   ]
  },
  {
   "cell_type": "code",
   "execution_count": 47,
   "metadata": {},
   "outputs": [
    {
     "data": {
      "text/latex": [
       "$x \\mapsto \\text{0.0003960998416203058}\\color{LightGray}{ + \\text{0.0}\\,x} + \\text{0.00843663134441546}\\,x^{2}\\color{LightGray}{ + \\text{0.0}\\,x^{3}} + \\text{0.07861610677703437}\\,x^{4}\\color{LightGray}{ + \\text{0.0}\\,x^{5}} + \\text{0.41861611702361223}\\,x^{6}\\color{LightGray}{ + \\text{0.0}\\,x^{7}} + \\text{1.3931580039390716}\\,x^{8}\\color{LightGray}{ + \\text{0.0}\\,x^{9}} + \\text{2.9673226920959994}\\,x^{10}\\color{LightGray}{ + \\text{0.0}\\,x^{11}} + \\text{3.95011008}\\,x^{12}\\color{LightGray}{ + \\text{0.0}\\,x^{13}} + \\text{3.0048}\\,x^{14}\\color{LightGray}{ + \\text{0.0}\\,x^{15}} + \\text{1.0}\\,x^{16}$"
      ],
      "text/plain": [
       "Polynomial([3.96099842e-04, 0.00000000e+00, 8.43663134e-03, 0.00000000e+00,\n",
       "       7.86161068e-02, 0.00000000e+00, 4.18616117e-01, 0.00000000e+00,\n",
       "       1.39315800e+00, 0.00000000e+00, 2.96732269e+00, 0.00000000e+00,\n",
       "       3.95011008e+00, 0.00000000e+00, 3.00480000e+00, 0.00000000e+00,\n",
       "       1.00000000e+00], domain=[-1.,  1.], window=[-1.,  1.])"
      ]
     },
     "execution_count": 47,
     "metadata": {},
     "output_type": "execute_result"
    }
   ],
   "source": [
    "P_num_final = 1 * P_square**8\n",
    "P_num_final"
   ]
  },
  {
   "cell_type": "markdown",
   "metadata": {},
   "source": [
    "## For the $z^{-1}$ part"
   ]
  },
  {
   "cell_type": "code",
   "execution_count": 66,
   "metadata": {},
   "outputs": [
    {
     "name": "stdout",
     "output_type": "stream",
     "text": [
      "[3.96099842e-04 0.00000000e+00 8.43663134e-03 0.00000000e+00\n",
      " 7.86161068e-02 0.00000000e+00 4.18616117e-01 0.00000000e+00\n",
      " 1.39315800e+00 0.00000000e+00 2.96732269e+00 0.00000000e+00\n",
      " 3.95011008e+00 0.00000000e+00 3.00480000e+00 0.00000000e+00\n",
      " 1.00000000e+00]\n"
     ]
    },
    {
     "data": {
      "text/latex": [
       "$x \\mapsto \\text{1.0} - \\text{1.0}\\,x$"
      ],
      "text/plain": [
       "Polynomial([ 1., -1.], domain=[-1,  1], window=[-1,  1])"
      ]
     },
     "execution_count": 66,
     "metadata": {},
     "output_type": "execute_result"
    }
   ],
   "source": [
    "P_lin_min = P([1, -1])\n",
    "P_lin_plus = P([1, +1])\n",
    "Coefficients_of_num = P_num_final.coef\n",
    "Coefficients_of_deno = P_deno_final.coef\n",
    "print(Coefficients_of_num)\n",
    "P_lin_min"
   ]
  },
  {
   "cell_type": "code",
   "execution_count": 81,
   "metadata": {},
   "outputs": [
    {
     "name": "stdout",
     "output_type": "stream",
     "text": [
      "[3.96099842e-04 2.45764172e-03 1.60609453e-02 6.11498175e-02\n",
      " 2.22254704e-01 5.92624861e-01 1.47828413e+00 2.89854995e+00\n",
      " 5.28895548e+00 7.71711913e+00 1.04786841e+01 1.11841534e+01\n",
      " 1.11673114e+01 8.18026263e+00 5.72028412e+00 2.33044837e+00\n",
      " 1.00000000e+00]\n"
     ]
    },
    {
     "data": {
      "text/latex": [
       "$x \\mapsto \\text{1.0} + \\text{5.779653209013955}\\,x + \\text{19.43818689232193}\\,x^{2} + \\text{45.83943413439217}\\,x^{3} + \\text{83.89401184819447}\\,x^{4} + \\text{124.02055931841453}\\,x^{5} + \\text{152.47570146749283}\\,x^{6} + \\text{157.89723633165377}\\,x^{7} + \\text{139.0501474872345}\\,x^{8} + \\text{104.20230792165361}\\,x^{9} + \\text{66.37312442280985}\\,x^{10} + \\text{35.57249640676803}\\,x^{11} + \\text{15.83462550030319}\\,x^{12} + \\text{5.682518823978492}\\,x^{13} + \\text{1.5808971825854847}\\,x^{14} + \\text{0.30783428238921634}\\,x^{15} + \\text{0.03519901179089332}\\,x^{16}$"
      ],
      "text/plain": [
       "Polynomial([1.00000000e+00, 5.77965321e+00, 1.94381869e+01, 4.58394341e+01,\n",
       "       8.38940118e+01, 1.24020559e+02, 1.52475701e+02, 1.57897236e+02,\n",
       "       1.39050147e+02, 1.04202308e+02, 6.63731244e+01, 3.55724964e+01,\n",
       "       1.58346255e+01, 5.68251882e+00, 1.58089718e+00, 3.07834282e-01,\n",
       "       3.51990118e-02], domain=[-1.,  1.], window=[-1.,  1.])"
      ]
     },
     "execution_count": 81,
     "metadata": {},
     "output_type": "execute_result"
    }
   ],
   "source": [
    "P_final_z = P([0])\n",
    "for i in range(0, 17):\n",
    "#     print( \"linear\", P_lin_min**(16 - i))\n",
    "#     print(\"square\", P_lin_plus**(i))\n",
    "#     print(\"the coeff\", Coefficients_of_deno[16-i] )\n",
    "    P_now = Coefficients_of_deno[i] * (P_lin_min**(16 - i)) * (P_lin_plus**(i))\n",
    "#     print(\"The polynomial:  \",P_final_z )\n",
    "    P_final_z = P_final_z + P_now\n",
    "P_deno_final_z = P_final_z/P_final_z.coef[0]\n",
    "normalization_fact = P_final_z.coef[0]\n",
    "print(Coefficients_of_deno)\n",
    "P_deno_final_z"
   ]
  },
  {
   "cell_type": "code",
   "execution_count": 82,
   "metadata": {},
   "outputs": [
    {
     "name": "stdout",
     "output_type": "stream",
     "text": [
      "[3.96099842e-04 0.00000000e+00 8.43663134e-03 0.00000000e+00\n",
      " 7.86161068e-02 0.00000000e+00 4.18616117e-01 0.00000000e+00\n",
      " 1.39315800e+00 0.00000000e+00 2.96732269e+00 0.00000000e+00\n",
      " 3.95011008e+00 0.00000000e+00 3.00480000e+00 0.00000000e+00\n",
      " 1.00000000e+00]\n"
     ]
    },
    {
     "data": {
      "text/latex": [
       "$x \\mapsto \\text{0.18761550994311538} + \\text{1.3625719617153969}\\,x + \\text{5.83032908846151}\\,x^{2} + \\text{17.398662317548684}\\,x^{3} + \\text{40.14976323567917}\\,x^{4} + \\text{74.3955940400006}\\,x^{5} + \\text{114.068506493586}\\,x^{6} + \\text{146.49419189486701}\\,x^{7} + \\text{159.209465157393}\\,x^{8} + \\text{146.49419189486701}\\,x^{9} + \\text{114.06850649358601}\\,x^{10} + \\text{74.39559404000062}\\,x^{11} + \\text{40.149763235679174}\\,x^{12} + \\text{17.39866231754868}\\,x^{13} + \\text{5.83032908846151}\\,x^{14} + \\text{1.3625719617153969}\\,x^{15} + \\text{0.18761550994311538}\\,x^{16}$"
      ],
      "text/plain": [
       "Polynomial([  0.18761551,   1.36257196,   5.83032909,  17.39866232,\n",
       "        40.14976324,  74.39559404, 114.06850649, 146.49419189,\n",
       "       159.20946516, 146.49419189, 114.06850649,  74.39559404,\n",
       "        40.14976324,  17.39866232,   5.83032909,   1.36257196,\n",
       "         0.18761551], domain=[-1.,  1.], window=[-1.,  1.])"
      ]
     },
     "execution_count": 82,
     "metadata": {},
     "output_type": "execute_result"
    }
   ],
   "source": [
    "P_final_z = P([0])\n",
    "for i in range(0, 17):\n",
    "#     print( \"linear\", P_lin_min**(16 - i))\n",
    "#     print(\"square\", P_lin_plus**(i))\n",
    "#     print(\"the coeff\", Coefficients_of_deno[16-i] )\n",
    "    P_now = Coefficients_of_num[i] * (P_lin_min**(16 - i)) * (P_lin_plus**(i))\n",
    "#     print(\"The polynomial:  \",P_final_z )\n",
    "    P_final_z = P_final_z + P_now\n",
    "P_num_final_z = P_final_z/normalization_fact\n",
    "print(Coefficients_of_num)\n",
    "P_num_final_z"
   ]
  },
  {
   "cell_type": "markdown",
   "metadata": {},
   "source": [
    "# Calculation For BandPass Polynomials"
   ]
  },
  {
   "cell_type": "code",
   "execution_count": 88,
   "metadata": {},
   "outputs": [
    {
     "data": {
      "text/latex": [
       "$x \\mapsto \\text{0.2372860075} + \\text{0.6242395000000001}\\,x + \\text{1.3479097088}\\,x^{2} + \\text{0.83416}\\,x^{3} + \\text{1.0}\\,x^{4}$"
      ],
      "text/plain": [
       "Polynomial([0.23728601, 0.6242395 , 1.34790971, 0.83416   , 1.        ], domain=[-1.,  1.], window=[-1.,  1.])"
      ]
     },
     "execution_count": 88,
     "metadata": {},
     "output_type": "execute_result"
    }
   ],
   "source": [
    "from numpy.polynomial import Polynomial as P\n",
    "P1 = P([0.95545, 0.24432, 1])\n",
    "P2 = P([0.24835, 0.58984, 1])\n",
    "\n",
    "P_deno = P1 * P2\n",
    "# P_num = 1.655\n",
    "\n",
    "# total_P = P_num/ P_deno\n",
    "P_deno\n"
   ]
  },
  {
   "cell_type": "code",
   "execution_count": 89,
   "metadata": {},
   "outputs": [],
   "source": [
    "P_lin = P([0, 0.238])\n",
    "P_square = P([0.2318, 0, 1])"
   ]
  },
  {
   "cell_type": "code",
   "execution_count": 90,
   "metadata": {},
   "outputs": [
    {
     "data": {
      "text/latex": [
       "$x \\mapsto \\color{LightGray}{\\text{0.0}} + \\text{0.238}\\,x$"
      ],
      "text/plain": [
       "Polynomial([0.   , 0.238], domain=[-1,  1], window=[-1,  1])"
      ]
     },
     "execution_count": 90,
     "metadata": {},
     "output_type": "execute_result"
    }
   ],
   "source": [
    "P_lin"
   ]
  },
  {
   "cell_type": "code",
   "execution_count": 91,
   "metadata": {},
   "outputs": [
    {
     "data": {
      "text/latex": [
       "$x \\mapsto \\text{0.2318}\\color{LightGray}{ + \\text{0.0}\\,x} + \\text{1.0}\\,x^{2}$"
      ],
      "text/plain": [
       "Polynomial([0.2318, 0.    , 1.    ], domain=[-1,  1], window=[-1,  1])"
      ]
     },
     "execution_count": 91,
     "metadata": {},
     "output_type": "execute_result"
    }
   ],
   "source": [
    "P_square"
   ]
  },
  {
   "cell_type": "code",
   "execution_count": 93,
   "metadata": {},
   "outputs": [
    {
     "name": "stdout",
     "output_type": "stream",
     "text": [
      "[0.23728601 0.6242395  1.34790971 0.83416    1.        ]\n"
     ]
    },
    {
     "data": {
      "text/latex": [
       "$x \\mapsto \\text{0.0028870461519376004} + \\text{0.002472672577687075}\\,x + \\text{0.053922039501344166}\\,x^{2} + \\text{0.03395252487689248}\\,x^{3} + \\text{0.3585451047577044}\\,x^{4} + \\text{0.14647336012464401}\\,x^{5} + \\text{1.0035509975452672}\\,x^{6} + \\text{0.19853008}\\,x^{7} + \\text{1.0}\\,x^{8}$"
      ],
      "text/plain": [
       "Polynomial([0.00288705, 0.00247267, 0.05392204, 0.03395252, 0.3585451 ,\n",
       "       0.14647336, 1.003551  , 0.19853008, 1.        ], domain=[-1.,  1.], window=[-1.,  1.])"
      ]
     },
     "execution_count": 93,
     "metadata": {},
     "output_type": "execute_result"
    }
   ],
   "source": [
    "Coefficeints = P_deno.coef\n",
    "P_final = P([0])\n",
    "for i in range(0, 5):\n",
    "#     print( \"linear\", P_lin**(8 - i))\n",
    "#     print(\"square\", P_square**(i))\n",
    "#     print(\"the coeff\", Coefficeints[8-i] )\n",
    "    P_now = Coefficeints[4-i] * (P_square**(4 - i)) * (P_lin**(i))\n",
    "#     print(\"The polynomial:  \",P_now )\n",
    "    P_final = P_final + P_now\n",
    "P_deno_final = P_final/P_final.coef[2*i]\n",
    "print(Coefficeints)\n",
    "P_deno_final"
   ]
  },
  {
   "cell_type": "code",
   "execution_count": 97,
   "metadata": {},
   "outputs": [
    {
     "data": {
      "text/latex": [
       "$x \\mapsto \\color{LightGray}{\\text{0.0}}\\color{LightGray}{ + \\text{0.0}\\,x}\\color{LightGray}{ + \\text{0.0}\\,x^{2}}\\color{LightGray}{ + \\text{0.0}\\,x^{3}} + \\text{0.0006352914617279999}\\,x^{4}$"
      ],
      "text/plain": [
       "Polynomial([0.        , 0.        , 0.        , 0.        , 0.00063529], domain=[-1.,  1.], window=[-1.,  1.])"
      ]
     },
     "execution_count": 97,
     "metadata": {},
     "output_type": "execute_result"
    }
   ],
   "source": [
    "P_num_final = .198 * P_lin**4\n",
    "P_num_final"
   ]
  },
  {
   "cell_type": "markdown",
   "metadata": {},
   "source": [
    "### For calculation of $z^{-1}$ coefficients"
   ]
  },
  {
   "cell_type": "code",
   "execution_count": 98,
   "metadata": {},
   "outputs": [
    {
     "name": "stdout",
     "output_type": "stream",
     "text": [
      "[0.         0.         0.         0.         0.00063529]\n"
     ]
    },
    {
     "data": {
      "text/latex": [
       "$x \\mapsto \\text{1.0} - \\text{1.0}\\,x$"
      ],
      "text/plain": [
       "Polynomial([ 1., -1.], domain=[-1,  1], window=[-1,  1])"
      ]
     },
     "execution_count": 98,
     "metadata": {},
     "output_type": "execute_result"
    }
   ],
   "source": [
    "P_lin_min = P([1, -1])\n",
    "P_lin_plus = P([1, +1])\n",
    "Coefficients_of_num = P_num_final.coef\n",
    "Coefficients_of_deno = P_deno_final.coef\n",
    "print(Coefficients_of_num)\n",
    "P_lin_min"
   ]
  },
  {
   "cell_type": "code",
   "execution_count": 99,
   "metadata": {},
   "outputs": [
    {
     "name": "stdout",
     "output_type": "stream",
     "text": [
      "[0.00288705 0.00247267 0.05392204 0.03395252 0.3585451  0.14647336\n",
      " 1.003551   0.19853008 1.        ]\n"
     ]
    },
    {
     "data": {
      "text/latex": [
       "$x \\mapsto \\text{1.0} + \\text{4.705440993439386}\\,x + \\text{11.90205806306723}\\,x^{2} + \\text{19.32251354546807}\\,x^{3} + \\text{22.061167467026003}\\,x^{4} + \\text{17.844347854254373}\\,x^{5} + \\text{10.149990689017317}\\,x^{6} + \\text{3.70457023849544}\\,x^{7} + \\text{0.7275834515863214}\\,x^{8}$"
      ],
      "text/plain": [
       "Polynomial([ 1.        ,  4.70544099, 11.90205806, 19.32251355, 22.06116747,\n",
       "       17.84434785, 10.14999069,  3.70457024,  0.72758345], domain=[-1.,  1.], window=[-1.,  1.])"
      ]
     },
     "execution_count": 99,
     "metadata": {},
     "output_type": "execute_result"
    }
   ],
   "source": [
    "P_final_z = P([0])\n",
    "for i in range(0, 9):\n",
    "    P_now = Coefficients_of_deno[i] * (P_lin_min**(8 - i)) * (P_lin_plus**(i))\n",
    "#     print(\"The polynomial:  \",P_final_z )\n",
    "    P_final_z = P_final_z + P_now\n",
    "P_deno_final_z = P_final_z/P_final_z.coef[0]\n",
    "normalization_fact = P_final_z.coef[0]\n",
    "print(Coefficients_of_deno)\n",
    "P_deno_final_z"
   ]
  },
  {
   "cell_type": "code",
   "execution_count": 103,
   "metadata": {},
   "outputs": [
    {
     "name": "stdout",
     "output_type": "stream",
     "text": [
      "[0.         0.         0.         0.         0.00063529]\n"
     ]
    },
    {
     "data": {
      "text/latex": [
       "$x \\mapsto \\text{0.0002268627604091166} + \\text{0.0009074510416364664}\\,x + \\text{0.0013611765624546995}\\,x^{2} + \\text{0.0009074510416364664}\\,x^{3} + \\text{0.0002268627604091166}\\,x^{4}$"
      ],
      "text/plain": [
       "Polynomial([0.00022686, 0.00090745, 0.00136118, 0.00090745, 0.00022686], domain=[-1.,  1.], window=[-1.,  1.])"
      ]
     },
     "execution_count": 103,
     "metadata": {},
     "output_type": "execute_result"
    }
   ],
   "source": [
    "P_final_z = P([0])\n",
    "for i in range(0, 5):\n",
    "#     print( \"linear\", P_lin_min**(16 - i))\n",
    "#     print(\"square\", P_lin_plus**(i))\n",
    "#     print(\"the coeff\", Coefficients_of_deno[16-i] )\n",
    "    P_now = Coefficients_of_num[i] * (P_lin_min**(4 - i)) * (P_lin_plus**(i))\n",
    "#     print(\"The polynomial:  \",P_final_z )\n",
    "    P_final_z = P_final_z + P_now\n",
    "P_num_final_z = P_final_z/normalization_fact\n",
    "print(Coefficients_of_num)\n",
    "P_num_final_z"
   ]
  },
  {
   "cell_type": "code",
   "execution_count": 9,
   "metadata": {},
   "outputs": [
    {
     "name": "stdout",
     "output_type": "stream",
     "text": [
      "(90.45383250928414+87.4868589724662j)\n"
     ]
    }
   ],
   "source": [
    "import numpy as np\n",
    "from math import pi\n",
    "C = 4.84 * 10**(-12)\n",
    "f = 60\n",
    "G = 5.47 * 10**(-8)\n",
    "L = 22.99 * 10**(-7)\n",
    "Z_0 = np.sqrt((1j * 2 * pi *f*L)/ (G + 1j * 2 * pi * f * C))\n",
    "print(Z_0)"
   ]
  },
  {
   "cell_type": "code",
   "execution_count": 8,
   "metadata": {},
   "outputs": [
    {
     "name": "stdout",
     "output_type": "stream",
     "text": [
      "(19.69257894405318+19.046332755952317j)\n"
     ]
    }
   ],
   "source": [
    "import numpy as np\n",
    "from math import pi\n",
    "C =  22.22 * 10**(-12)\n",
    "f = 60\n",
    "G = 2.51 * 10**(-7)\n",
    "L = 0.5 * 10**(-6)\n",
    "Z_0 = np.sqrt((1j * 2 * pi *f*L)/ (G + 1j * 2 * pi * f * C))\n",
    "print(Z_0)"
   ]
  },
  {
   "cell_type": "code",
   "execution_count": null,
   "metadata": {},
   "outputs": [],
   "source": []
  }
 ],
 "metadata": {
  "kernelspec": {
   "display_name": "Python 3",
   "language": "python",
   "name": "python3"
  },
  "language_info": {
   "codemirror_mode": {
    "name": "ipython",
    "version": 3
   },
   "file_extension": ".py",
   "mimetype": "text/x-python",
   "name": "python",
   "nbconvert_exporter": "python",
   "pygments_lexer": "ipython3",
   "version": "3.7.6"
  }
 },
 "nbformat": 4,
 "nbformat_minor": 4
}
